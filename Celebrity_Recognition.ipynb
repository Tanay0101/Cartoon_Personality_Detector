{
 "cells": [
  {
   "cell_type": "code",
   "execution_count": 1,
   "metadata": {},
   "outputs": [
    {
     "name": "stderr",
     "output_type": "stream",
     "text": [
      "Using TensorFlow backend.\n"
     ]
    }
   ],
   "source": [
    "from keras.preprocessing.image import ImageDataGenerator\n",
    "from keras.applications import ResNet152\n",
    "from keras.layers import Dense,Dropout,GlobalAveragePooling2D,Conv2D,BatchNormalization,Input,MaxPooling2D,ReLU\n",
    "from keras import Model\n",
    "from keras.callbacks import EarlyStopping, ModelCheckpoint, LearningRateScheduler"
   ]
  },
  {
   "cell_type": "code",
   "execution_count": 2,
   "metadata": {},
   "outputs": [
    {
     "name": "stdout",
     "output_type": "stream",
     "text": [
      "Found 3567 images belonging to 6 classes.\n",
      "Found 392 images belonging to 6 classes.\n"
     ]
    }
   ],
   "source": [
    "train_datagen = ImageDataGenerator(rescale = 1/255,shear_range = 0.2, zoom_range = 0.2,horizontal_flip = True, validation_split = 0.1)\n",
    "path = r'.\\data\\Train_cartoon'\n",
    "train_generator = train_datagen.flow_from_directory(path,target_size=(224, 224),subset = 'training')\n",
    "validation_generator = train_datagen.flow_from_directory(path,target_size=(224, 224),subset = 'validation')"
   ]
  },
  {
   "cell_type": "code",
   "execution_count": 3,
   "metadata": {},
   "outputs": [],
   "source": [
    "def create_model():\n",
    "    input_A = Input(shape = (224,224,3))\n",
    "    x = Conv2D(filters = 64, strides = 2, kernel_size = 3, activation= 'elu')(input_A)\n",
    "    x = MaxPooling2D(2)(x)\n",
    "    x = Conv2D(filters = 128, strides = 1, kernel_size = 3, activation= 'elu')(x)\n",
    "    x = MaxPooling2D(2)(x)\n",
    "    x = Conv2D(filters = 256, strides = 1, kernel_size = 3, activation= 'elu')(x)\n",
    "    x = MaxPooling2D(2)(x)\n",
    "    x = Conv2D(filters = 512, strides = 1, kernel_size = 3, activation= 'elu')(x)\n",
    "    x = GlobalAveragePooling2D()(x)\n",
    "    x = Dropout(0.2)(x)\n",
    "    output = Dense(6,activation = 'softmax')(x)\n",
    "    model = Model(input_A,output)\n",
    "    return model"
   ]
  },
  {
   "cell_type": "code",
   "execution_count": 4,
   "metadata": {},
   "outputs": [
    {
     "name": "stdout",
     "output_type": "stream",
     "text": [
      "Model: \"model_1\"\n",
      "_________________________________________________________________\n",
      "Layer (type)                 Output Shape              Param #   \n",
      "=================================================================\n",
      "input_1 (InputLayer)         (None, 224, 224, 3)       0         \n",
      "_________________________________________________________________\n",
      "conv2d_1 (Conv2D)            (None, 111, 111, 64)      1792      \n",
      "_________________________________________________________________\n",
      "max_pooling2d_1 (MaxPooling2 (None, 55, 55, 64)        0         \n",
      "_________________________________________________________________\n",
      "conv2d_2 (Conv2D)            (None, 53, 53, 128)       73856     \n",
      "_________________________________________________________________\n",
      "max_pooling2d_2 (MaxPooling2 (None, 26, 26, 128)       0         \n",
      "_________________________________________________________________\n",
      "conv2d_3 (Conv2D)            (None, 24, 24, 256)       295168    \n",
      "_________________________________________________________________\n",
      "max_pooling2d_3 (MaxPooling2 (None, 12, 12, 256)       0         \n",
      "_________________________________________________________________\n",
      "conv2d_4 (Conv2D)            (None, 10, 10, 512)       1180160   \n",
      "_________________________________________________________________\n",
      "global_average_pooling2d_1 ( (None, 512)               0         \n",
      "_________________________________________________________________\n",
      "dropout_1 (Dropout)          (None, 512)               0         \n",
      "_________________________________________________________________\n",
      "dense_1 (Dense)              (None, 6)                 3078      \n",
      "=================================================================\n",
      "Total params: 1,554,054\n",
      "Trainable params: 1,554,054\n",
      "Non-trainable params: 0\n",
      "_________________________________________________________________\n"
     ]
    }
   ],
   "source": [
    "early_stopping_cb = EarlyStopping(patience = 20)\n",
    "checkpoint_cb = ModelCheckpoint('model3.h5', save_best_only = True)\n",
    "model = create_model()\n",
    "model.compile(optimizer = 'adam', loss = 'categorical_crossentropy', metrics = ['accuracy'])\n",
    "model.summary()"
   ]
  },
  {
   "cell_type": "code",
   "execution_count": 5,
   "metadata": {
    "scrolled": true
   },
   "outputs": [
    {
     "name": "stdout",
     "output_type": "stream",
     "text": [
      "Epoch 1/100\n",
      "112/112 [==============================] - 73s 648ms/step - loss: 1.7891 - accuracy: 0.2414 - val_loss: 1.4475 - val_accuracy: 0.2653\n",
      "Epoch 2/100\n",
      "112/112 [==============================] - 70s 628ms/step - loss: 1.6780 - accuracy: 0.2857 - val_loss: 1.6417 - val_accuracy: 0.3189\n",
      "Epoch 3/100\n",
      "112/112 [==============================] - 70s 627ms/step - loss: 1.6533 - accuracy: 0.3157 - val_loss: 2.0919 - val_accuracy: 0.3699\n",
      "Epoch 4/100\n",
      "112/112 [==============================] - 70s 628ms/step - loss: 1.6033 - accuracy: 0.3703 - val_loss: 1.5427 - val_accuracy: 0.4260\n",
      "Epoch 5/100\n",
      "112/112 [==============================] - 70s 629ms/step - loss: 1.4926 - accuracy: 0.4188 - val_loss: 1.5610 - val_accuracy: 0.4439\n",
      "Epoch 6/100\n",
      "112/112 [==============================] - 70s 627ms/step - loss: 1.4009 - accuracy: 0.4659 - val_loss: 1.1526 - val_accuracy: 0.4847\n",
      "Epoch 7/100\n",
      "112/112 [==============================] - 71s 630ms/step - loss: 1.3448 - accuracy: 0.4999 - val_loss: 1.5948 - val_accuracy: 0.5230\n",
      "Epoch 8/100\n",
      "112/112 [==============================] - 71s 630ms/step - loss: 1.2816 - accuracy: 0.5259 - val_loss: 1.2754 - val_accuracy: 0.5561\n",
      "Epoch 9/100\n",
      "112/112 [==============================] - 71s 630ms/step - loss: 1.2035 - accuracy: 0.5677 - val_loss: 0.9702 - val_accuracy: 0.5612\n",
      "Epoch 10/100\n",
      "112/112 [==============================] - 70s 626ms/step - loss: 1.1238 - accuracy: 0.5971 - val_loss: 1.0109 - val_accuracy: 0.5765\n",
      "Epoch 11/100\n",
      "112/112 [==============================] - 70s 629ms/step - loss: 1.0235 - accuracy: 0.6341 - val_loss: 0.7083 - val_accuracy: 0.6633\n",
      "Epoch 12/100\n",
      "112/112 [==============================] - 70s 628ms/step - loss: 0.9563 - accuracy: 0.6647 - val_loss: 0.6846 - val_accuracy: 0.6480\n",
      "Epoch 13/100\n",
      "112/112 [==============================] - 70s 626ms/step - loss: 0.9006 - accuracy: 0.6824 - val_loss: 1.0017 - val_accuracy: 0.7041\n",
      "Epoch 14/100\n",
      "112/112 [==============================] - 71s 630ms/step - loss: 0.8799 - accuracy: 0.6992 - val_loss: 0.5194 - val_accuracy: 0.7041\n",
      "Epoch 15/100\n",
      "112/112 [==============================] - 70s 628ms/step - loss: 0.8031 - accuracy: 0.7289 - val_loss: 0.9476 - val_accuracy: 0.7296\n",
      "Epoch 16/100\n",
      "112/112 [==============================] - 70s 628ms/step - loss: 0.7116 - accuracy: 0.7496 - val_loss: 0.3633 - val_accuracy: 0.8010\n",
      "Epoch 17/100\n",
      "112/112 [==============================] - 70s 628ms/step - loss: 0.6858 - accuracy: 0.7721 - val_loss: 1.0164 - val_accuracy: 0.7117\n",
      "Epoch 18/100\n",
      "112/112 [==============================] - 70s 629ms/step - loss: 0.6283 - accuracy: 0.7805 - val_loss: 0.4441 - val_accuracy: 0.7985\n",
      "Epoch 19/100\n",
      "112/112 [==============================] - 70s 625ms/step - loss: 0.6157 - accuracy: 0.7934 - val_loss: 0.6439 - val_accuracy: 0.7653\n",
      "Epoch 20/100\n",
      "112/112 [==============================] - 70s 628ms/step - loss: 0.5881 - accuracy: 0.8012 - val_loss: 0.2887 - val_accuracy: 0.8444\n",
      "Epoch 21/100\n",
      "112/112 [==============================] - 70s 629ms/step - loss: 0.5110 - accuracy: 0.8295 - val_loss: 1.1341 - val_accuracy: 0.8418\n",
      "Epoch 22/100\n",
      "112/112 [==============================] - 70s 628ms/step - loss: 0.4462 - accuracy: 0.8520 - val_loss: 0.1701 - val_accuracy: 0.8418\n",
      "Epoch 23/100\n",
      "112/112 [==============================] - 71s 634ms/step - loss: 0.4321 - accuracy: 0.8621 - val_loss: 0.5493 - val_accuracy: 0.8597\n",
      "Epoch 24/100\n",
      "112/112 [==============================] - 70s 627ms/step - loss: 0.3886 - accuracy: 0.8736 - val_loss: 0.0575 - val_accuracy: 0.8673\n",
      "Epoch 25/100\n",
      "112/112 [==============================] - 70s 628ms/step - loss: 0.3616 - accuracy: 0.8845 - val_loss: 0.2694 - val_accuracy: 0.8827\n",
      "Epoch 26/100\n",
      "112/112 [==============================] - 70s 625ms/step - loss: 0.3448 - accuracy: 0.8895 - val_loss: 0.4549 - val_accuracy: 0.8648\n",
      "Epoch 27/100\n",
      "112/112 [==============================] - 71s 630ms/step - loss: 0.3236 - accuracy: 0.8974 - val_loss: 0.1292 - val_accuracy: 0.8878\n",
      "Epoch 28/100\n",
      "112/112 [==============================] - 74s 658ms/step - loss: 0.3040 - accuracy: 0.9016 - val_loss: 0.1181 - val_accuracy: 0.8801\n",
      "Epoch 29/100\n",
      "112/112 [==============================] - 92s 823ms/step - loss: 0.2817 - accuracy: 0.9086 - val_loss: 0.0175 - val_accuracy: 0.8980\n",
      "Epoch 30/100\n",
      "112/112 [==============================] - 73s 654ms/step - loss: 0.2594 - accuracy: 0.9156 - val_loss: 0.4923 - val_accuracy: 0.9209\n",
      "Epoch 31/100\n",
      "112/112 [==============================] - 70s 627ms/step - loss: 0.2467 - accuracy: 0.9173 - val_loss: 0.0558 - val_accuracy: 0.9082\n",
      "Epoch 32/100\n",
      "112/112 [==============================] - 70s 627ms/step - loss: 0.2215 - accuracy: 0.9268 - val_loss: 0.1486 - val_accuracy: 0.9158\n",
      "Epoch 33/100\n",
      "112/112 [==============================] - 70s 628ms/step - loss: 0.2090 - accuracy: 0.9347 - val_loss: 0.0620 - val_accuracy: 0.9362\n",
      "Epoch 34/100\n",
      "112/112 [==============================] - 70s 626ms/step - loss: 0.1805 - accuracy: 0.9420 - val_loss: 0.0789 - val_accuracy: 0.9184\n",
      "Epoch 35/100\n",
      "112/112 [==============================] - 70s 628ms/step - loss: 0.1799 - accuracy: 0.9465 - val_loss: 1.1779 - val_accuracy: 0.9413\n",
      "Epoch 36/100\n",
      "112/112 [==============================] - 70s 627ms/step - loss: 0.1604 - accuracy: 0.9428 - val_loss: 1.6373 - val_accuracy: 0.9184\n",
      "Epoch 37/100\n",
      "112/112 [==============================] - 70s 627ms/step - loss: 0.1583 - accuracy: 0.9498 - val_loss: 0.4321 - val_accuracy: 0.9260\n",
      "Epoch 38/100\n",
      "112/112 [==============================] - 70s 629ms/step - loss: 0.1791 - accuracy: 0.9462 - val_loss: 0.3129 - val_accuracy: 0.9184\n",
      "Epoch 39/100\n",
      "112/112 [==============================] - 70s 629ms/step - loss: 0.1434 - accuracy: 0.9571 - val_loss: 0.0125 - val_accuracy: 0.9133\n",
      "Epoch 40/100\n",
      "112/112 [==============================] - 70s 627ms/step - loss: 0.1498 - accuracy: 0.9523 - val_loss: 0.3525 - val_accuracy: 0.9490\n",
      "Epoch 41/100\n",
      "112/112 [==============================] - 70s 628ms/step - loss: 0.1066 - accuracy: 0.9680 - val_loss: 0.0967 - val_accuracy: 0.9388\n",
      "Epoch 42/100\n",
      "112/112 [==============================] - 70s 627ms/step - loss: 0.1606 - accuracy: 0.9515 - val_loss: 0.0613 - val_accuracy: 0.9515\n",
      "Epoch 43/100\n",
      "112/112 [==============================] - 70s 629ms/step - loss: 0.1143 - accuracy: 0.9636 - val_loss: 0.0791 - val_accuracy: 0.9311\n",
      "Epoch 44/100\n",
      "112/112 [==============================] - 70s 627ms/step - loss: 0.1102 - accuracy: 0.9638 - val_loss: 0.0047 - val_accuracy: 0.9490\n",
      "Epoch 45/100\n",
      "112/112 [==============================] - 70s 628ms/step - loss: 0.1163 - accuracy: 0.9638 - val_loss: 0.0112 - val_accuracy: 0.9337\n",
      "Epoch 46/100\n",
      "112/112 [==============================] - 70s 627ms/step - loss: 0.1126 - accuracy: 0.9616 - val_loss: 0.0020 - val_accuracy: 0.9337\n",
      "Epoch 47/100\n",
      "112/112 [==============================] - 70s 628ms/step - loss: 0.0932 - accuracy: 0.9689 - val_loss: 0.2569 - val_accuracy: 0.9413\n",
      "Epoch 48/100\n",
      "112/112 [==============================] - 70s 629ms/step - loss: 0.0820 - accuracy: 0.9748 - val_loss: 0.6811 - val_accuracy: 0.9617\n",
      "Epoch 49/100\n",
      "112/112 [==============================] - 71s 635ms/step - loss: 0.0958 - accuracy: 0.9683 - val_loss: 0.9019 - val_accuracy: 0.9490\n",
      "Epoch 50/100\n",
      "112/112 [==============================] - 70s 626ms/step - loss: 0.0961 - accuracy: 0.9708 - val_loss: 0.0112 - val_accuracy: 0.9643\n",
      "Epoch 51/100\n",
      "112/112 [==============================] - 70s 626ms/step - loss: 0.0731 - accuracy: 0.9765 - val_loss: 1.6298e-04 - val_accuracy: 0.9464\n",
      "Epoch 52/100\n",
      "112/112 [==============================] - 70s 628ms/step - loss: 0.1174 - accuracy: 0.9588 - val_loss: 0.0061 - val_accuracy: 0.9413\n",
      "Epoch 53/100\n",
      "112/112 [==============================] - 70s 628ms/step - loss: 0.0803 - accuracy: 0.9717 - val_loss: 1.7058 - val_accuracy: 0.9464\n",
      "Epoch 54/100\n",
      "112/112 [==============================] - 70s 628ms/step - loss: 0.1168 - accuracy: 0.9613 - val_loss: 0.4676 - val_accuracy: 0.9490\n",
      "Epoch 55/100\n",
      "112/112 [==============================] - 70s 626ms/step - loss: 0.0809 - accuracy: 0.9748 - val_loss: 1.1173e-04 - val_accuracy: 0.9566\n",
      "Epoch 56/100\n",
      "112/112 [==============================] - 70s 628ms/step - loss: 0.0797 - accuracy: 0.9765 - val_loss: 0.0562 - val_accuracy: 0.9566\n"
     ]
    },
    {
     "name": "stdout",
     "output_type": "stream",
     "text": [
      "Epoch 57/100\n",
      "112/112 [==============================] - 70s 628ms/step - loss: 0.0924 - accuracy: 0.9669 - val_loss: 0.0202 - val_accuracy: 0.9515\n",
      "Epoch 58/100\n",
      "112/112 [==============================] - 70s 627ms/step - loss: 0.0758 - accuracy: 0.9756 - val_loss: 0.0010 - val_accuracy: 0.9541\n",
      "Epoch 59/100\n",
      "112/112 [==============================] - 70s 626ms/step - loss: 0.0627 - accuracy: 0.9787 - val_loss: 0.0762 - val_accuracy: 0.9490\n",
      "Epoch 60/100\n",
      "112/112 [==============================] - 70s 626ms/step - loss: 0.0574 - accuracy: 0.9804 - val_loss: 0.1055 - val_accuracy: 0.9566\n",
      "Epoch 61/100\n",
      "112/112 [==============================] - 70s 626ms/step - loss: 0.0678 - accuracy: 0.9787 - val_loss: 0.0012 - val_accuracy: 0.9617\n",
      "Epoch 62/100\n",
      "112/112 [==============================] - 70s 625ms/step - loss: 0.0642 - accuracy: 0.9793 - val_loss: 0.0330 - val_accuracy: 0.9490\n",
      "Epoch 63/100\n",
      "112/112 [==============================] - 70s 627ms/step - loss: 0.0986 - accuracy: 0.9664 - val_loss: 1.8611e-05 - val_accuracy: 0.9413\n",
      "Epoch 64/100\n",
      "112/112 [==============================] - 73s 648ms/step - loss: 0.0657 - accuracy: 0.9790 - val_loss: 5.1639e-04 - val_accuracy: 0.9464\n",
      "Epoch 65/100\n",
      "112/112 [==============================] - 70s 628ms/step - loss: 0.0665 - accuracy: 0.9767 - val_loss: 0.0042 - val_accuracy: 0.9592\n",
      "Epoch 66/100\n",
      "112/112 [==============================] - 70s 626ms/step - loss: 0.0653 - accuracy: 0.9798 - val_loss: 0.0051 - val_accuracy: 0.9413\n",
      "Epoch 67/100\n",
      "112/112 [==============================] - 70s 629ms/step - loss: 0.0569 - accuracy: 0.9826 - val_loss: 0.7539 - val_accuracy: 0.9643\n",
      "Epoch 68/100\n",
      "112/112 [==============================] - 70s 627ms/step - loss: 0.0766 - accuracy: 0.9776 - val_loss: 0.0024 - val_accuracy: 0.9464\n",
      "Epoch 69/100\n",
      "112/112 [==============================] - 70s 629ms/step - loss: 0.0614 - accuracy: 0.9807 - val_loss: 4.8024e-04 - val_accuracy: 0.9541\n",
      "Epoch 70/100\n",
      "112/112 [==============================] - 70s 625ms/step - loss: 0.0655 - accuracy: 0.9812 - val_loss: 0.8644 - val_accuracy: 0.9439\n",
      "Epoch 71/100\n",
      "112/112 [==============================] - 70s 629ms/step - loss: 0.0625 - accuracy: 0.9798 - val_loss: 0.0017 - val_accuracy: 0.9566\n",
      "Epoch 72/100\n",
      "112/112 [==============================] - 70s 627ms/step - loss: 0.0391 - accuracy: 0.9874 - val_loss: 1.4062 - val_accuracy: 0.9694\n",
      "Epoch 73/100\n",
      "112/112 [==============================] - 70s 628ms/step - loss: 0.0608 - accuracy: 0.9781 - val_loss: 3.8672e-04 - val_accuracy: 0.9515\n",
      "Epoch 74/100\n",
      "112/112 [==============================] - 70s 627ms/step - loss: 0.0523 - accuracy: 0.9837 - val_loss: 0.0094 - val_accuracy: 0.9617\n",
      "Epoch 75/100\n",
      "112/112 [==============================] - 70s 629ms/step - loss: 0.0377 - accuracy: 0.9860 - val_loss: 0.0060 - val_accuracy: 0.9617\n",
      "Epoch 76/100\n",
      "112/112 [==============================] - 70s 628ms/step - loss: 0.0525 - accuracy: 0.9837 - val_loss: 2.7398e-04 - val_accuracy: 0.9439\n",
      "Epoch 77/100\n",
      "112/112 [==============================] - 70s 627ms/step - loss: 0.0285 - accuracy: 0.9924 - val_loss: 7.4258e-05 - val_accuracy: 0.9592\n",
      "Epoch 78/100\n",
      "112/112 [==============================] - 70s 629ms/step - loss: 0.0331 - accuracy: 0.9896 - val_loss: 2.2352e-07 - val_accuracy: 0.9617\n",
      "Epoch 79/100\n",
      "112/112 [==============================] - 71s 630ms/step - loss: 0.0478 - accuracy: 0.9832 - val_loss: 0.0033 - val_accuracy: 0.9541\n",
      "Epoch 80/100\n",
      "112/112 [==============================] - 70s 626ms/step - loss: 0.0694 - accuracy: 0.9790 - val_loss: 0.0144 - val_accuracy: 0.9617\n",
      "Epoch 81/100\n",
      "112/112 [==============================] - 71s 630ms/step - loss: 0.0544 - accuracy: 0.9804 - val_loss: 7.7757e-04 - val_accuracy: 0.9311\n",
      "Epoch 82/100\n",
      "112/112 [==============================] - 70s 628ms/step - loss: 0.0700 - accuracy: 0.9781 - val_loss: 7.9320e-05 - val_accuracy: 0.9668\n",
      "Epoch 83/100\n",
      "112/112 [==============================] - 70s 626ms/step - loss: 0.0379 - accuracy: 0.9885 - val_loss: 0.0030 - val_accuracy: 0.9541\n",
      "Epoch 84/100\n",
      "112/112 [==============================] - 71s 631ms/step - loss: 0.0651 - accuracy: 0.9804 - val_loss: 3.2778e-05 - val_accuracy: 0.9490\n",
      "Epoch 85/100\n",
      "112/112 [==============================] - 70s 627ms/step - loss: 0.0528 - accuracy: 0.9826 - val_loss: 2.7551e-05 - val_accuracy: 0.9643\n",
      "Epoch 86/100\n",
      "112/112 [==============================] - 70s 628ms/step - loss: 0.0503 - accuracy: 0.9837 - val_loss: 1.4067e-04 - val_accuracy: 0.9592\n",
      "Epoch 87/100\n",
      "112/112 [==============================] - 70s 628ms/step - loss: 0.0480 - accuracy: 0.9843 - val_loss: 0.0152 - val_accuracy: 0.9566\n",
      "Epoch 88/100\n",
      "112/112 [==============================] - 70s 628ms/step - loss: 0.0706 - accuracy: 0.9762 - val_loss: 1.7732 - val_accuracy: 0.9541\n",
      "Epoch 89/100\n",
      "112/112 [==============================] - 70s 629ms/step - loss: 0.0474 - accuracy: 0.9849 - val_loss: 3.0256 - val_accuracy: 0.9592\n",
      "Epoch 90/100\n",
      "112/112 [==============================] - 70s 628ms/step - loss: 0.0533 - accuracy: 0.9835 - val_loss: 1.0437 - val_accuracy: 0.9592\n",
      "Epoch 91/100\n",
      "112/112 [==============================] - 71s 630ms/step - loss: 0.0445 - accuracy: 0.9835 - val_loss: 9.5960e-06 - val_accuracy: 0.9694\n",
      "Epoch 92/100\n",
      "112/112 [==============================] - 71s 630ms/step - loss: 0.0354 - accuracy: 0.9868 - val_loss: 0.0193 - val_accuracy: 0.9617\n",
      "Epoch 93/100\n",
      "112/112 [==============================] - 70s 627ms/step - loss: 0.0584 - accuracy: 0.9815 - val_loss: 1.0221 - val_accuracy: 0.9643\n",
      "Epoch 94/100\n",
      "112/112 [==============================] - 70s 628ms/step - loss: 0.0342 - accuracy: 0.9891 - val_loss: 1.9360e-04 - val_accuracy: 0.9592\n",
      "Epoch 95/100\n",
      "112/112 [==============================] - 71s 630ms/step - loss: 0.0255 - accuracy: 0.9916 - val_loss: 2.5332e-07 - val_accuracy: 0.9490\n",
      "Epoch 96/100\n",
      "112/112 [==============================] - 70s 629ms/step - loss: 0.0242 - accuracy: 0.9922 - val_loss: 3.4570e-06 - val_accuracy: 0.9694\n",
      "Epoch 97/100\n",
      "112/112 [==============================] - 70s 626ms/step - loss: 0.0518 - accuracy: 0.9871 - val_loss: 3.3821e-05 - val_accuracy: 0.9490\n",
      "Epoch 98/100\n",
      "112/112 [==============================] - 70s 628ms/step - loss: 0.0508 - accuracy: 0.9851 - val_loss: 1.2368e-06 - val_accuracy: 0.9541\n"
     ]
    }
   ],
   "source": [
    "history = model.fit(train_generator, validation_data = validation_generator, epochs = 100, callbacks = [checkpoint_cb,early_stopping_cb])"
   ]
  },
  {
   "cell_type": "code",
   "execution_count": 6,
   "metadata": {},
   "outputs": [
    {
     "data": {
      "image/png": "[encoded data removed]",
      "text/plain": [
       "<Figure size 432x288 with 1 Axes>"
      ]
     },
     "metadata": {
      "needs_background": "light"
     },
     "output_type": "display_data"
    }
   ],
   "source": [
    "import pandas as pd\n",
    "import matplotlib.pyplot as plt\n",
    "%matplotlib inline\n",
    "def plot_training_accuracy(history):\n",
    "    pd.DataFrame(history.history).plot()\n",
    "    plt.grid(True)\n",
    "    plt.gca().set_ylim(0,1)\n",
    "    plt.show()\n",
    "    \n",
    "plot_training_accuracy(history)"
   ]
  },
  {
   "cell_type": "code",
   "execution_count": 8,
   "metadata": {},
   "outputs": [
    {
     "name": "stdout",
     "output_type": "stream",
     "text": [
      "Found 1031 images belonging to 6 classes.\n",
      "33/33 [==============================] - 4s 136ms/step\n"
     ]
    },
    {
     "data": {
      "text/plain": [
       "[1.6126576662063599, 0.7565470337867737]"
      ]
     },
     "execution_count": 8,
     "metadata": {},
     "output_type": "execute_result"
    }
   ],
   "source": [
    "test_gen = ImageDataGenerator(rescale = 1/255)\n",
    "path = r'.\\data\\Test_cartoon'\n",
    "test_generator = test_gen.flow_from_directory(path,target_size=(224, 224))\n",
    "\n",
    "model.evaluate(test_generator)"
   ]
  }
 ],
 "metadata": {
  "kernelspec": {
   "display_name": "tfgpu",
   "language": "python",
   "name": "tfgpu"
  },
  "language_info": {
   "codemirror_mode": {
    "name": "ipython",
    "version": 3
   },
   "file_extension": ".py",
   "mimetype": "text/x-python",
   "name": "python",
   "nbconvert_exporter": "python",
   "pygments_lexer": "ipython3",
   "version": "3.7.6"
  }
 },
 "nbformat": 4,
 "nbformat_minor": 4
}
