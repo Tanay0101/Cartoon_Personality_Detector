{
 "cells": [
  {
   "cell_type": "code",
   "execution_count": 1,
   "metadata": {},
   "outputs": [
    {
     "name": "stderr",
     "output_type": "stream",
     "text": [
      "Using TensorFlow backend.\n"
     ]
    }
   ],
   "source": [
    "import tensorflow as tf\n",
    "import keras \n",
    "from keras.models import load_model\n",
    "import matplotlib.pyplot as plt"
   ]
  },
  {
   "cell_type": "code",
   "execution_count": null,
   "metadata": {},
   "outputs": [],
   "source": [
    "model = load_model('model3.h5')"
   ]
  },
  {
   "cell_type": "code",
   "execution_count": null,
   "metadata": {},
   "outputs": [],
   "source": [
    "import numpy as np\n",
    "from PIL import Image"
   ]
  },
  {
   "cell_type": "code",
   "execution_count": null,
   "metadata": {},
   "outputs": [],
   "source": [
    "obama = np.asarray(Image.open('obama.jpg').resize((224,224)))\n",
    "gandhi =   np.asarray(Image.open('gandhi.jpg').resize((224,224)))\n",
    "trump = np.asarray(Image.open('trump.jpg').resize((224,224)))\n",
    "jobs = np.asarray(Image.open('jobs.jpg').resize((224,224)))\n",
    "lincoln = np.asarray(Image.open('lincoln.jpg').resize((224,224)))\n",
    "einstein = np.asarray(Image.open('einstein.jpg').resize((224,224)))\n",
    "\n",
    "print(obama.shape)\n",
    "print(gandhi.shape)\n",
    "print(trump.shape)\n",
    "print(jobs.shape)\n",
    "print(lincoln.shape)\n",
    "print(einstein.shape)"
   ]
  },
  {
   "cell_type": "code",
   "execution_count": null,
   "metadata": {},
   "outputs": [],
   "source": [
    "X_test = []\n",
    "X_test.extend([obama, gandhi, trump, jobs, lincoln, einstein])\n",
    "X_test = np.array(X_test)\n",
    "X_test = X_test/255"
   ]
  },
  {
   "cell_type": "code",
   "execution_count": null,
   "metadata": {},
   "outputs": [],
   "source": [
    "X_test.shape"
   ]
  },
  {
   "cell_type": "code",
   "execution_count": null,
   "metadata": {},
   "outputs": [],
   "source": [
    "predictions = np.argmax(model.predict(X_test),axis = 1)\n",
    "ref = {0: 'Abraham_Lincoln', 1:'Albert_Einstein', 2:'Barack_Obama', 3:'Donald_Trump', 4:'Mahatma_Gandhi', 5:'Steve_Jobs'}"
   ]
  },
  {
   "cell_type": "code",
   "execution_count": null,
   "metadata": {
    "scrolled": false
   },
   "outputs": [],
   "source": [
    "obama = Image.open('obama.jpg').resize((224,224))\n",
    "gandhi = Image.open('gandhi.jpg').resize((224,224))\n",
    "trump = Image.open('trump.jpg').resize((224,224))\n",
    "jobs = Image.open('jobs.jpg').resize((224,224))\n",
    "lincoln = Image.open('lincoln.jpg').resize((224,224))\n",
    "einstein = Image.open('einstein.jpg').resize((224,224))\n",
    "\n",
    "listOfImageNames = [obama, gandhi, trump, jobs, lincoln, einstein]"
   ]
  },
  {
   "cell_type": "code",
   "execution_count": null,
   "metadata": {},
   "outputs": [],
   "source": [
    "%matplotlib inline\n",
    "for i in range(len(predictions)):\n",
    "    prediction = predictions[i]\n",
    "    image = listOfImageNames[i]\n",
    "    name = ref[prediction]\n",
    "    plt.imshow(np.asarray(image))\n",
    "    plt.show()\n",
    "    print(name)\n",
    "    "
   ]
  }
 ],
 "metadata": {
  "kernelspec": {
   "display_name": "tfgpu",
   "language": "python",
   "name": "tfgpu"
  },
  "language_info": {
   "codemirror_mode": {
    "name": "ipython",
    "version": 3
   },
   "file_extension": ".py",
   "mimetype": "text/x-python",
   "name": "python",
   "nbconvert_exporter": "python",
   "pygments_lexer": "ipython3",
   "version": "3.7.6"
  }
 },
 "nbformat": 4,
 "nbformat_minor": 4
}
